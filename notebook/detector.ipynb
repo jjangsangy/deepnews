{
 "cells": [
  {
   "cell_type": "code",
   "execution_count": 1,
   "metadata": {
    "collapsed": false,
    "deletable": true,
    "editable": true
   },
   "outputs": [
    {
     "name": "stderr",
     "output_type": "stream",
     "text": [
      "Using TensorFlow backend.\n"
     ]
    }
   ],
   "source": [
    "import sys\n",
    "import string \n",
    "import re\n",
    "import numpy as np\n",
    "from sklearn import metrics\n",
    "from sklearn.feature_extraction.text import TfidfTransformer, CountVectorizer\n",
    "from sklearn.svm import SVC\n",
    "from sklearn.pipeline import Pipeline\n",
    "from keras.models import load_model\n",
    "from keras.preprocessing import sequence"
   ]
  },
  {
   "cell_type": "code",
   "execution_count": 2,
   "metadata": {
    "collapsed": false,
    "deletable": true,
    "editable": true
   },
   "outputs": [],
   "source": [
    "MATCH_MULTIPLE_SPACES = re.compile(\"\\ {2,}\")\n",
    "SEQUENCE_LENGTH = 20\n",
    "vocabulary = open(\"../data/vocabulary.txt\").read().split(\"\\n\")\n",
    "inverse_vocabulary = dict((word, i) for i, word in enumerate(vocabulary))\n",
    "\n",
    "def words_to_indices(words):\n",
    "    UNK = '<UNK>'\n",
    "    return [inverse_vocabulary.get(word, inverse_vocabulary[UNK]) for word in words]\n",
    "\n",
    "def clean(text):\n",
    "    for punctuation in string.punctuation:\n",
    "        text = text.replace(punctuation, \" \" + punctuation + \" \")\n",
    "    for i in range(10):\n",
    "        text = text.replace(str(i), \" \" + str(i) + \" \")\n",
    "    text = MATCH_MULTIPLE_SPACES.sub(\" \", text)\n",
    "    return text"
   ]
  },
  {
   "cell_type": "code",
   "execution_count": 3,
   "metadata": {
    "collapsed": false,
    "deletable": true,
    "editable": true
   },
   "outputs": [],
   "source": [
    "import random\n",
    "\n",
    "news = [\n",
    "    \"No one thrown out: UK publishes Brexit plan\",\n",
    "    \"No future for Iraqis who worked with US troops\",\n",
    "    \"Trump, Tillerson and the South China Sea: What's at stake\",\n",
    "    \"Mattis: Only NK need fear missile defense\",\n",
    "    \"What went wrong inside the Yemen raid\",\n",
    "    \"Israel to build new settlement in West Bank\",\n",
    "    \"What you need to know about the Israeli settlements\",\n",
    "    \"Palestinians fear UN roadblock despite anti-settlement resolution\",\n",
    "    \"Amona evacuation complete amid protests\",\n",
    "    \"Cyclist left bloodied after being punched\",\n",
    "    \"Police arrest anti-Mugabe pastor\",\n",
    "    \"Billionaire snatched from Hong Kong\",\n",
    "    \"Romanians protest new corruption law\",\n",
    "    \"Proof That Fruitcake Is The Unsung Hero Of Christmas Treats\"\n",
    "]"
   ]
  },
  {
   "cell_type": "code",
   "execution_count": 4,
   "metadata": {
    "collapsed": true,
    "deletable": true,
    "editable": true
   },
   "outputs": [],
   "source": [
    "from ipywidgets import FloatSlider\n",
    "from ipywidgets import interact, interactive, fixed"
   ]
  },
  {
   "cell_type": "code",
   "execution_count": 5,
   "metadata": {
    "collapsed": false,
    "deletable": true,
    "editable": true
   },
   "outputs": [],
   "source": [
    "import functools\n",
    "from IPython.display import display\n",
    "\n",
    "model = load_model('../models/detector.h5')\n",
    "\n",
    "def predict_news(title):\n",
    "    return model.predict(sequence.pad_sequences([words_to_indices(clean(title.lower()))], maxlen=SEQUENCE_LENGTH))[0][0]"
   ]
  },
  {
   "cell_type": "markdown",
   "metadata": {
    "deletable": true,
    "editable": true
   },
   "source": [
    "# Slide Your Tolerance for Bullshit"
   ]
  },
  {
   "cell_type": "code",
   "execution_count": 6,
   "metadata": {
    "collapsed": false,
    "deletable": true,
    "editable": true
   },
   "outputs": [
    {
     "name": "stdout",
     "output_type": "stream",
     "text": [
      "Is This News?\n",
      "\n",
      "False \t No one thrown out: UK publishes Brexit plan\n",
      "False \t No future for Iraqis who worked with US troops\n",
      "False \t Trump, Tillerson and the South China Sea: What's at stake\n",
      "True \t Mattis: Only NK need fear missile defense\n",
      "True \t What went wrong inside the Yemen raid\n",
      "True \t Israel to build new settlement in West Bank\n",
      "True \t What you need to know about the Israeli settlements\n",
      "True \t Palestinians fear UN roadblock despite anti-settlement resolution\n",
      "True \t Amona evacuation complete amid protests\n",
      "True \t Cyclist left bloodied after being punched\n",
      "True \t Police arrest anti-Mugabe pastor\n",
      "True \t Billionaire snatched from Hong Kong\n",
      "True \t Romanians protest new corruption law\n",
      "True \t Proof That Fruitcake Is The Unsung Hero Of Christmas Treats\n"
     ]
    }
   ],
   "source": [
    "@interact(tolerance=(0,1,0.01))\n",
    "def f(tolerance=0.5):\n",
    "    print('Is This News?\\n')\n",
    "    for i in news:\n",
    "        print(predict_news(i) > tolerance, '\\t', i)"
   ]
  },
  {
   "cell_type": "code",
   "execution_count": 7,
   "metadata": {
    "collapsed": false,
    "deletable": true,
    "editable": true
   },
   "outputs": [
    {
     "name": "stdout",
     "output_type": "stream",
     "text": [
      "Bullshit\n"
     ]
    }
   ],
   "source": [
    "@interact(title='Write your own', tolerance=(0, 1, 0.01))\n",
    "def b(title, tolerance=0.5):\n",
    "    print('Bullshit' if predict_news(title) > tolerance else 'Real News')"
   ]
  },
  {
   "cell_type": "code",
   "execution_count": null,
   "metadata": {
    "collapsed": true,
    "deletable": true,
    "editable": true
   },
   "outputs": [],
   "source": []
  }
 ],
 "metadata": {
  "anaconda-cloud": {},
  "kernelspec": {
   "display_name": "Python 3",
   "language": "python",
   "name": "python3"
  },
  "language_info": {
   "codemirror_mode": {
    "name": "ipython",
    "version": 3
   },
   "file_extension": ".py",
   "mimetype": "text/x-python",
   "name": "python",
   "nbconvert_exporter": "python",
   "pygments_lexer": "ipython3",
   "version": "3.6.0"
  },
  "widgets": {
   "state": {
    "3649fb25491342fab4995fae18665a7c": {
     "views": [
      {
       "cell_index": 5
      }
     ]
    },
    "53d15ce916ce4951a3a58c648b5702dc": {
     "views": [
      {
       "cell_index": 7
      }
     ]
    }
   },
   "version": "1.2.0"
  }
 },
 "nbformat": 4,
 "nbformat_minor": 1
}
